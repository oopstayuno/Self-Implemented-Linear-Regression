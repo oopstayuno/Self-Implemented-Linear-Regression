{
 "cells": [
  {
   "cell_type": "code",
   "execution_count": 1,
   "metadata": {
    "colab": {},
    "colab_type": "code",
    "id": "REYPoTJ1Af7u"
   },
   "outputs": [],
   "source": [
    "import warnings\n",
    "warnings.filterwarnings(\"ignore\")\n",
    "from sklearn.datasets import load_boston\n",
    "from random import seed\n",
    "from random import randrange\n",
    "from csv import reader\n",
    "from math import sqrt\n",
    "from sklearn import preprocessing\n",
    "import pandas as pd\n",
    "import numpy as np\n",
    "import matplotlib.pyplot as plt\n",
    "from prettytable import PrettyTable\n",
    "from sklearn.linear_model import SGDRegressor\n",
    "from sklearn import preprocessing\n",
    "from sklearn.metrics import mean_squared_error"
   ]
  },
  {
   "cell_type": "code",
   "execution_count": 2,
   "metadata": {
    "colab": {},
    "colab_type": "code",
    "id": "NTQ2iH-kAwbo"
   },
   "outputs": [],
   "source": [
    "X = load_boston().data\n",
    "Y = load_boston().target"
   ]
  },
  {
   "cell_type": "code",
   "execution_count": 3,
   "metadata": {
    "colab": {},
    "colab_type": "code",
    "id": "FgUW39s6Be0U"
   },
   "outputs": [],
   "source": [
    "scaler = preprocessing.StandardScaler().fit(X)\n",
    "X = scaler.transform(X)"
   ]
  },
  {
   "cell_type": "code",
   "execution_count": 4,
   "metadata": {
    "colab": {
     "base_uri": "https://localhost:8080/",
     "height": 35
    },
    "colab_type": "code",
    "executionInfo": {
     "elapsed": 1168,
     "status": "ok",
     "timestamp": 1560148552338,
     "user": {
      "displayName": "Kuru Tayung",
      "photoUrl": "",
      "userId": "04211768677627639952"
     },
     "user_tz": -330
    },
    "id": "HNu1sXtEBBS2",
    "outputId": "c0853f3e-123a-4632-e5fe-4b8dca43ab30"
   },
   "outputs": [
    {
     "name": "stdout",
     "output_type": "stream",
     "text": [
      "21.963050456933775\n"
     ]
    }
   ],
   "source": [
    "clf = SGDRegressor()\n",
    "clf.fit(X, Y)\n",
    "print(mean_squared_error(Y, clf.predict(X)))"
   ]
  },
  {
   "cell_type": "code",
   "execution_count": 5,
   "metadata": {
    "colab": {
     "base_uri": "https://localhost:8080/",
     "height": 35
    },
    "colab_type": "code",
    "executionInfo": {
     "elapsed": 706,
     "status": "ok",
     "timestamp": 1560148553827,
     "user": {
      "displayName": "Kuru Tayung",
      "photoUrl": "",
      "userId": "04211768677627639952"
     },
     "user_tz": -330
    },
    "id": "ox5CYTAJhErY",
    "outputId": "be5cd40d-88a5-488a-ea11-dc009d155907"
   },
   "outputs": [
    {
     "data": {
      "text/plain": [
       "(506, 13)"
      ]
     },
     "execution_count": 5,
     "metadata": {},
     "output_type": "execute_result"
    }
   ],
   "source": [
    "X.shape"
   ]
  },
  {
   "cell_type": "markdown",
   "metadata": {
    "colab_type": "text",
    "id": "t7icFrf2hErc"
   },
   "source": [
    "### SGD Implementation"
   ]
  },
  {
   "cell_type": "markdown",
   "metadata": {
    "colab_type": "text",
    "id": "aAUH-egohErg"
   },
   "source": [
    "**Square Loss**:\n",
    "    1/n * summation(y_i - wTx_i - b)^2 ;  for i = 0,1,2.....n <br>\n",
    "**Gradient w.r.t w**:\n",
    "    -2/n * summation(y_i - wTx_i - b) * x_i ;  for i = 0,1,2.....n <br>\n",
    "**Gradient w.r.t b**:\n",
    "    -2/n * summation(y_i - wTx_i - b) ;  for i = 0,1,2.....n"
   ]
  },
  {
   "cell_type": "code",
   "execution_count": 6,
   "metadata": {
    "colab": {},
    "colab_type": "code",
    "id": "XzY4zWzAhErg"
   },
   "outputs": [],
   "source": [
    "## a function to calculate gradients and return respective gradients w.r.t w & b\n",
    "\n",
    "def grad_calculate(alpha=None, weights=None, b=None, data_X=None, data_y=None ):\n",
    "    size_n = data_X.shape[0]\n",
    "    \n",
    "    ## grad w.r.t w\n",
    "    ## y_i_hat = w.T * data_X.T+b (multiplying all X instead of x_i, hence transpose of X)\n",
    "    y_hat = np.matmul(weights.T, data_X.T).T + b\n",
    "    \n",
    "    ## (y_i - y_i_hat) * data_X.T (as summation of (y_i - y_i_hat)*x_i can be written as (y_i - y_i_hat)*data_X)\n",
    "    grad_w = (-2/size_n) * (np.matmul((data_y.reshape(-1,1)-y_hat).T, data_X)).T\n",
    "    \n",
    "    \n",
    "    \n",
    "    ## grad w.r.t b --> -2/n * summation(y_i - wTx_i - b)\n",
    "    grad_b = (-2/size_n) * np.sum(data_y.reshape(-1,1) - y_hat)\n",
    "    \n",
    "    #print(grad_b)\n",
    "    \n",
    "    return grad_w, grad_b\n",
    "    "
   ]
  },
  {
   "cell_type": "code",
   "execution_count": 7,
   "metadata": {},
   "outputs": [],
   "source": [
    "## function to calculate LinearRegression for given weights and returns (wTx_i+b)\n",
    "## and plot y_pred vs y_true\n",
    "\n",
    "import matplotlib.pyplot as plt\n",
    "\n",
    "def plot_predY_vs_actualY(title=None, y_actual=None, y_pred=None):\n",
    "    plt.scatter(y_actual, y_pred)\n",
    "    plt.xlabel(\"Prices: Y_actual\")\n",
    "    plt.ylabel(\"Predicted prices: Y_pred\")\n",
    "    plt.title(title)\n",
    "    plt.show()\n",
    "\n",
    "def cal_error_loss(y_actual=None, y_pred=None):\n",
    "    dif_sqr = (y_actual - y_pred)**2\n",
    "    error = 1/y_actual.shape[0] * (np.sum(dif_sqr))\n",
    "    #print(error)\n",
    "    return error    \n",
    "\n",
    "def cal_LR(X_data=None, w=None, b=None):\n",
    "    y_pred = np.matmul(w.T, X_data.T).T + b    \n",
    "    return y_pred"
   ]
  },
  {
   "cell_type": "code",
   "execution_count": 8,
   "metadata": {
    "colab": {},
    "colab_type": "code",
    "id": "EkQ0jmtehEri"
   },
   "outputs": [],
   "source": [
    "## SGD Function -- returns weights and b\n",
    "\n",
    "# alpha - Learning rate\n",
    "def sgd_LinearRegression(X_data=None, y=None, alpha=None, batch_size=None, max_iter=None, tol=None):\n",
    "    \n",
    "    ## initialize weights -- randomly\n",
    "    w = np.random.rand(X_data.shape[1],1)\n",
    "    b = np.random.rand()    \n",
    "    \n",
    "    ## loops: iterations for calculating weights\n",
    "    for iter in range(0, max_iter):\n",
    "        \n",
    "        ## select random batch_size indexes: https://stackoverflow.com/questions/14262654/numpy-get-random-set-of-rows-from-2d-array\n",
    "        random_indx = np.random.randint(X_data.shape[0], size=batch_size)\n",
    "        batch_data_X = X_data[random_indx]\n",
    "        batch_data_y = y[random_indx]\n",
    "\n",
    "        \n",
    "        ## return gradient calculated w.r.t w & b\n",
    "        temp_w, temp_b = grad_calculate(alpha=alpha, weights=w, b=b, data_X=batch_data_X, data_y=batch_data_y)\n",
    "        \n",
    "        old_w = w\n",
    "        old_b = b\n",
    "        \n",
    "        w = w - alpha*temp_w\n",
    "        b = b - alpha*temp_b\n",
    "\n",
    "        \n",
    "        ## For terminating the loop: https://scikit-learn.org/stable/modules/generated/sklearn.linear_model.SGDRegressor.html\n",
    "        '''\n",
    "            tol : float or None, optional (default=1e-3)\n",
    "            The stopping criterion.\n",
    "        '''\n",
    "        temp_Y_pred = cal_LR(X_data=X_data, w=w, b=b)\n",
    "        cur_error = cal_error_loss(y_actual=y, y_pred=temp_Y_pred)\n",
    "        \n",
    "        ## will use --> if error is less than a tolerance value or if old weights and new weights are very close, i.e., difference between them be less than 0.0001\n",
    "        if tol is not None:\n",
    "            if (cur_error <= tol) or ((old_w - w)<0.00001).all():\n",
    "                print(\"Iteration No.: \", iter)\n",
    "                break\n",
    "        elif tol is None:\n",
    "            if ((old_w - w)<0.00001).all():\n",
    "                print(\"Iteration No.: \", iter)\n",
    "                break\n",
    "\n",
    "        ## use 0.001 as epsilon to avolid alpha become 0 and get invalid nan or inf (it became 0 after some iterations)\n",
    "        alpha = (alpha+0.001)/2\n",
    "    \n",
    "    return w, b\n",
    "        "
   ]
  },
  {
   "cell_type": "markdown",
   "metadata": {
    "colab_type": "text",
    "id": "-I0QSeeAhErn"
   },
   "source": [
    "**Data**"
   ]
  },
  {
   "cell_type": "code",
   "execution_count": 9,
   "metadata": {
    "colab": {},
    "colab_type": "code",
    "id": "tF7IWCmwhErn"
   },
   "outputs": [],
   "source": [
    "data = pd.DataFrame(X, columns=load_boston().feature_names)\n",
    "y = pd.DataFrame(Y, columns=['PRICE'])"
   ]
  },
  {
   "cell_type": "code",
   "execution_count": 10,
   "metadata": {
    "colab": {
     "base_uri": "https://localhost:8080/",
     "height": 206
    },
    "colab_type": "code",
    "executionInfo": {
     "elapsed": 1935,
     "status": "ok",
     "timestamp": 1560148942046,
     "user": {
      "displayName": "Kuru Tayung",
      "photoUrl": "",
      "userId": "04211768677627639952"
     },
     "user_tz": -330
    },
    "id": "AMo1-z98hErq",
    "outputId": "5af401f8-3934-4ae7-96eb-62e588455b68"
   },
   "outputs": [
    {
     "data": {
      "text/html": [
       "<div>\n",
       "<style scoped>\n",
       "    .dataframe tbody tr th:only-of-type {\n",
       "        vertical-align: middle;\n",
       "    }\n",
       "\n",
       "    .dataframe tbody tr th {\n",
       "        vertical-align: top;\n",
       "    }\n",
       "\n",
       "    .dataframe thead th {\n",
       "        text-align: right;\n",
       "    }\n",
       "</style>\n",
       "<table border=\"1\" class=\"dataframe\">\n",
       "  <thead>\n",
       "    <tr style=\"text-align: right;\">\n",
       "      <th></th>\n",
       "      <th>CRIM</th>\n",
       "      <th>ZN</th>\n",
       "      <th>INDUS</th>\n",
       "      <th>CHAS</th>\n",
       "      <th>NOX</th>\n",
       "      <th>RM</th>\n",
       "      <th>AGE</th>\n",
       "      <th>DIS</th>\n",
       "      <th>RAD</th>\n",
       "      <th>TAX</th>\n",
       "      <th>PTRATIO</th>\n",
       "      <th>B</th>\n",
       "      <th>LSTAT</th>\n",
       "    </tr>\n",
       "  </thead>\n",
       "  <tbody>\n",
       "    <tr>\n",
       "      <th>0</th>\n",
       "      <td>-0.419782</td>\n",
       "      <td>0.284830</td>\n",
       "      <td>-1.287909</td>\n",
       "      <td>-0.272599</td>\n",
       "      <td>-0.144217</td>\n",
       "      <td>0.413672</td>\n",
       "      <td>-0.120013</td>\n",
       "      <td>0.140214</td>\n",
       "      <td>-0.982843</td>\n",
       "      <td>-0.666608</td>\n",
       "      <td>-1.459000</td>\n",
       "      <td>0.441052</td>\n",
       "      <td>-1.075562</td>\n",
       "    </tr>\n",
       "    <tr>\n",
       "      <th>1</th>\n",
       "      <td>-0.417339</td>\n",
       "      <td>-0.487722</td>\n",
       "      <td>-0.593381</td>\n",
       "      <td>-0.272599</td>\n",
       "      <td>-0.740262</td>\n",
       "      <td>0.194274</td>\n",
       "      <td>0.367166</td>\n",
       "      <td>0.557160</td>\n",
       "      <td>-0.867883</td>\n",
       "      <td>-0.987329</td>\n",
       "      <td>-0.303094</td>\n",
       "      <td>0.441052</td>\n",
       "      <td>-0.492439</td>\n",
       "    </tr>\n",
       "    <tr>\n",
       "      <th>2</th>\n",
       "      <td>-0.417342</td>\n",
       "      <td>-0.487722</td>\n",
       "      <td>-0.593381</td>\n",
       "      <td>-0.272599</td>\n",
       "      <td>-0.740262</td>\n",
       "      <td>1.282714</td>\n",
       "      <td>-0.265812</td>\n",
       "      <td>0.557160</td>\n",
       "      <td>-0.867883</td>\n",
       "      <td>-0.987329</td>\n",
       "      <td>-0.303094</td>\n",
       "      <td>0.396427</td>\n",
       "      <td>-1.208727</td>\n",
       "    </tr>\n",
       "    <tr>\n",
       "      <th>3</th>\n",
       "      <td>-0.416750</td>\n",
       "      <td>-0.487722</td>\n",
       "      <td>-1.306878</td>\n",
       "      <td>-0.272599</td>\n",
       "      <td>-0.835284</td>\n",
       "      <td>1.016303</td>\n",
       "      <td>-0.809889</td>\n",
       "      <td>1.077737</td>\n",
       "      <td>-0.752922</td>\n",
       "      <td>-1.106115</td>\n",
       "      <td>0.113032</td>\n",
       "      <td>0.416163</td>\n",
       "      <td>-1.361517</td>\n",
       "    </tr>\n",
       "    <tr>\n",
       "      <th>4</th>\n",
       "      <td>-0.412482</td>\n",
       "      <td>-0.487722</td>\n",
       "      <td>-1.306878</td>\n",
       "      <td>-0.272599</td>\n",
       "      <td>-0.835284</td>\n",
       "      <td>1.228577</td>\n",
       "      <td>-0.511180</td>\n",
       "      <td>1.077737</td>\n",
       "      <td>-0.752922</td>\n",
       "      <td>-1.106115</td>\n",
       "      <td>0.113032</td>\n",
       "      <td>0.441052</td>\n",
       "      <td>-1.026501</td>\n",
       "    </tr>\n",
       "  </tbody>\n",
       "</table>\n",
       "</div>"
      ],
      "text/plain": [
       "       CRIM        ZN     INDUS      CHAS       NOX        RM       AGE  \\\n",
       "0 -0.419782  0.284830 -1.287909 -0.272599 -0.144217  0.413672 -0.120013   \n",
       "1 -0.417339 -0.487722 -0.593381 -0.272599 -0.740262  0.194274  0.367166   \n",
       "2 -0.417342 -0.487722 -0.593381 -0.272599 -0.740262  1.282714 -0.265812   \n",
       "3 -0.416750 -0.487722 -1.306878 -0.272599 -0.835284  1.016303 -0.809889   \n",
       "4 -0.412482 -0.487722 -1.306878 -0.272599 -0.835284  1.228577 -0.511180   \n",
       "\n",
       "        DIS       RAD       TAX   PTRATIO         B     LSTAT  \n",
       "0  0.140214 -0.982843 -0.666608 -1.459000  0.441052 -1.075562  \n",
       "1  0.557160 -0.867883 -0.987329 -0.303094  0.441052 -0.492439  \n",
       "2  0.557160 -0.867883 -0.987329 -0.303094  0.396427 -1.208727  \n",
       "3  1.077737 -0.752922 -1.106115  0.113032  0.416163 -1.361517  \n",
       "4  1.077737 -0.752922 -1.106115  0.113032  0.441052 -1.026501  "
      ]
     },
     "execution_count": 10,
     "metadata": {},
     "output_type": "execute_result"
    }
   ],
   "source": [
    "data.head()"
   ]
  },
  {
   "cell_type": "code",
   "execution_count": 11,
   "metadata": {
    "colab": {
     "base_uri": "https://localhost:8080/",
     "height": 206
    },
    "colab_type": "code",
    "executionInfo": {
     "elapsed": 1256,
     "status": "ok",
     "timestamp": 1560148945109,
     "user": {
      "displayName": "Kuru Tayung",
      "photoUrl": "",
      "userId": "04211768677627639952"
     },
     "user_tz": -330
    },
    "id": "qdYfWXl4hErt",
    "outputId": "43af92b0-556a-4ee7-efa4-5fa7745e1d9f"
   },
   "outputs": [
    {
     "data": {
      "text/html": [
       "<div>\n",
       "<style scoped>\n",
       "    .dataframe tbody tr th:only-of-type {\n",
       "        vertical-align: middle;\n",
       "    }\n",
       "\n",
       "    .dataframe tbody tr th {\n",
       "        vertical-align: top;\n",
       "    }\n",
       "\n",
       "    .dataframe thead th {\n",
       "        text-align: right;\n",
       "    }\n",
       "</style>\n",
       "<table border=\"1\" class=\"dataframe\">\n",
       "  <thead>\n",
       "    <tr style=\"text-align: right;\">\n",
       "      <th></th>\n",
       "      <th>PRICE</th>\n",
       "    </tr>\n",
       "  </thead>\n",
       "  <tbody>\n",
       "    <tr>\n",
       "      <th>0</th>\n",
       "      <td>24.0</td>\n",
       "    </tr>\n",
       "    <tr>\n",
       "      <th>1</th>\n",
       "      <td>21.6</td>\n",
       "    </tr>\n",
       "    <tr>\n",
       "      <th>2</th>\n",
       "      <td>34.7</td>\n",
       "    </tr>\n",
       "    <tr>\n",
       "      <th>3</th>\n",
       "      <td>33.4</td>\n",
       "    </tr>\n",
       "    <tr>\n",
       "      <th>4</th>\n",
       "      <td>36.2</td>\n",
       "    </tr>\n",
       "  </tbody>\n",
       "</table>\n",
       "</div>"
      ],
      "text/plain": [
       "   PRICE\n",
       "0   24.0\n",
       "1   21.6\n",
       "2   34.7\n",
       "3   33.4\n",
       "4   36.2"
      ]
     },
     "execution_count": 11,
     "metadata": {},
     "output_type": "execute_result"
    }
   ],
   "source": [
    "y.head()"
   ]
  },
  {
   "cell_type": "markdown",
   "metadata": {
    "colab_type": "text",
    "id": "OcBPf5-khErv"
   },
   "source": [
    "**Split Train and Test Data**"
   ]
  },
  {
   "cell_type": "code",
   "execution_count": 12,
   "metadata": {
    "colab": {
     "base_uri": "https://localhost:8080/",
     "height": 90
    },
    "colab_type": "code",
    "executionInfo": {
     "elapsed": 1432,
     "status": "ok",
     "timestamp": 1560148946658,
     "user": {
      "displayName": "Kuru Tayung",
      "photoUrl": "",
      "userId": "04211768677627639952"
     },
     "user_tz": -330
    },
    "id": "da8Jn7FUhErw",
    "outputId": "afeb6ba3-cd93-49ed-ab76-40892e1513a1"
   },
   "outputs": [
    {
     "name": "stdout",
     "output_type": "stream",
     "text": [
      "(354, 13)\n",
      "(152, 13)\n",
      "(354, 1)\n",
      "(152, 1)\n"
     ]
    }
   ],
   "source": [
    "from sklearn.model_selection import train_test_split\n",
    "X_train, X_test, Y_train, Y_test = train_test_split(data, y, test_size = 0.3)\n",
    "print(X_train.shape)\n",
    "print(X_test.shape)\n",
    "print(Y_train.shape)\n",
    "print(Y_test.shape)"
   ]
  },
  {
   "cell_type": "code",
   "execution_count": 13,
   "metadata": {
    "colab": {
     "base_uri": "https://localhost:8080/",
     "height": 54
    },
    "colab_type": "code",
    "executionInfo": {
     "elapsed": 1243,
     "status": "ok",
     "timestamp": 1560159117179,
     "user": {
      "displayName": "Kuru Tayung",
      "photoUrl": "",
      "userId": "04211768677627639952"
     },
     "user_tz": -330
    },
    "id": "cT_QBQ4LhErz",
    "outputId": "4ca31a27-eccc-4c72-d046-5a645d3fae19"
   },
   "outputs": [],
   "source": [
    "## Calling SGD for train data\n",
    "## max_iteration = 10000 (tried with several max_iteration, cud see the loop break when max_iteration was very high)\n",
    "## batch_size=150\n",
    "weights, b = sgd_LinearRegression(X_data=X_train.values, y=Y_train.values, alpha=1, batch_size=100, max_iter=10000, tol=0.001)"
   ]
  },
  {
   "cell_type": "code",
   "execution_count": 14,
   "metadata": {
    "colab": {
     "base_uri": "https://localhost:8080/",
     "height": 333
    },
    "colab_type": "code",
    "executionInfo": {
     "elapsed": 3520,
     "status": "ok",
     "timestamp": 1560163410927,
     "user": {
      "displayName": "Kuru Tayung",
      "photoUrl": "",
      "userId": "04211768677627639952"
     },
     "user_tz": -330
    },
    "id": "lDUO460yhEr4",
    "outputId": "43f03db4-8408-49f5-d0cc-064399d0f5e9"
   },
   "outputs": [
    {
     "data": {
      "image/png": "[encoded data removed]",
      "text/plain": [
       "<Figure size 432x288 with 1 Axes>"
      ]
     },
     "metadata": {
      "needs_background": "light"
     },
     "output_type": "display_data"
    }
   ],
   "source": [
    "y_pred_train = cal_LR(X_data=X_train.values, w=weights, b=b)\n",
    "y_pred_test = cal_LR(X_data=X_test.values, w=weights, b=b)\n",
    "\n",
    "plot_predY_vs_actualY(title=\"Implemented SGD Plot of Actual_Y vs Pred_Y\", y_actual=Y_test, y_pred=y_pred_test)\n",
    "\n",
    "error_MSE_train = cal_error_loss(y_actual=Y_train.values, y_pred=y_pred_train)\n",
    "error_MSE_test = cal_error_loss(y_actual=Y_test.values, y_pred=y_pred_test)"
   ]
  },
  {
   "cell_type": "markdown",
   "metadata": {
    "colab_type": "text",
    "id": "yH21rh-P_ME_"
   },
   "source": [
    "**Sklearn SGDRegressor**"
   ]
  },
  {
   "cell_type": "code",
   "execution_count": 15,
   "metadata": {
    "colab": {
     "base_uri": "https://localhost:8080/",
     "height": 296
    },
    "colab_type": "code",
    "executionInfo": {
     "elapsed": 1627,
     "status": "ok",
     "timestamp": 1560163996591,
     "user": {
      "displayName": "Kuru Tayung",
      "photoUrl": "",
      "userId": "04211768677627639952"
     },
     "user_tz": -330
    },
    "id": "zk0HQN4chEr7",
    "outputId": "2f3dde14-765f-4186-afc1-db574a004797"
   },
   "outputs": [
    {
     "data": {
      "image/png": "[encoded data removed]",
      "text/plain": [
       "<Figure size 432x288 with 1 Axes>"
      ]
     },
     "metadata": {
      "needs_background": "light"
     },
     "output_type": "display_data"
    }
   ],
   "source": [
    "from sklearn.linear_model import SGDRegressor\n",
    "\n",
    "lm = SGDRegressor(loss='squared_loss', penalty='l2', alpha=0.0001, max_iter=1000)\n",
    "lm.fit(X_train.values, Y_train.values)\n",
    "\n",
    "y_pred_train = lm.predict(X_train.values)\n",
    "y_pred_test = lm.predict(X_test.values)\n",
    "\n",
    "plot_predY_vs_actualY(\"Sklearn SGD Plot of Actual_Y vs Pred_Y\", Y_test, y_pred_test)\n",
    "\n",
    "error_MSE_train_sk = mean_squared_error(Y_train, y_pred_train)\n",
    "error_MSE_test_sk = mean_squared_error(Y_test, y_pred_test)"
   ]
  },
  {
   "cell_type": "markdown",
   "metadata": {
    "colab_type": "text",
    "id": "CAP7nMMwDHJ9"
   },
   "source": [
    "**Comparing weights, b, MSE of Self Implemented SGD vs Sklearn SGD**"
   ]
  },
  {
   "cell_type": "code",
   "execution_count": 16,
   "metadata": {},
   "outputs": [
    {
     "name": "stdout",
     "output_type": "stream",
     "text": [
      "Pretty Table: Comaprison of Weights\n",
      "+---------+---------------------------+-----------------------+---------------------+\n",
      "| Sl. No. | Weights - Implemented SGD | Sklearn SGD - Weights | Absolute Difference |\n",
      "+---------+---------------------------+-----------------------+---------------------+\n",
      "|    1    |       [-0.47060767]       |  -0.8361336228369617  |     [0.36552595]    |\n",
      "|    2    |        [0.49092548]       |   0.7104597371893244  |     [0.21953426]    |\n",
      "|    3    |       [-0.09095973]       |  0.07340272211002881  |     [0.16436245]    |\n",
      "|    4    |        [1.07469634]       |   1.0595823167890333  |     [0.01511402]    |\n",
      "|    5    |       [-1.57360974]       |  -1.6455778055064902  |     [0.07196807]    |\n",
      "|    6    |        [4.02144714]       |   4.044627934853076   |     [0.02318079]    |\n",
      "|    7    |        [0.11227695]       |  -0.07596247808984463 |     [0.18823942]    |\n",
      "|    8    |       [-2.01816112]       |  -2.2883345434820543  |     [0.27017342]    |\n",
      "|    9    |        [0.17994468]       |   1.2980809468711696  |     [1.11813627]    |\n",
      "|    10   |        [0.52544288]       |  -0.5749075645361311  |     [1.10035044]    |\n",
      "|    11   |        [-1.8557291]       |  -1.8910370372324992  |     [0.03530794]    |\n",
      "|    12   |        [1.07330943]       |   1.1058118469573541  |     [0.03250242]    |\n",
      "|    13   |       [-3.33619454]       |  -3.1135689822559494  |     [0.22262556]    |\n",
      "+---------+---------------------------+-----------------------+---------------------+\n",
      "+---------+-----------------------------+-------------------------+--------------------+\n",
      "| Sl. No. | Intercept - Implemented SGD | Sklearn SGD - intercept | Absolute Differenc |\n",
      "+---------+-----------------------------+-------------------------+--------------------+\n",
      "|    1    |      22.55117234896271      |      [22.53883032]      |    [0.01234203]    |\n",
      "+---------+-----------------------------+-------------------------+--------------------+\n",
      "+------------+-----------------------+-------------------+---------------------+\n",
      "| Train/Test | MSE - Implemented SGD | Sklearn SGD - MSE |  Absolute Differenc |\n",
      "+------------+-----------------------+-------------------+---------------------+\n",
      "|   Train    |   21.12934502852074   | 20.70078928406337 | 0.42855574445736977 |\n",
      "|    Test    |   30.47737721424706   | 29.46549987913149 |  1.011877335115571  |\n",
      "+------------+-----------------------+-------------------+---------------------+\n"
     ]
    }
   ],
   "source": [
    "from prettytable import PrettyTable\n",
    "\n",
    "x = PrettyTable() ## For Weights\n",
    "y = PrettyTable()\n",
    "z = PrettyTable()\n",
    "\n",
    "print(\"Pretty Table: Comaprison of Weights\")\n",
    "\n",
    "x.field_names = [\"Sl. No.\", \"Weights - Implemented SGD\", \"Sklearn SGD - Weights\", \"Absolute Difference\"]\n",
    "for indx in range(0,weights.shape[0]):\n",
    "    x.add_row([indx+1, weights[indx], lm.coef_[indx], abs(weights[indx] - lm.coef_[indx])])\n",
    "    \n",
    "y.field_names = [\"Sl. No.\", \"Intercept - Implemented SGD\", \"Sklearn SGD - intercept\", \"Absolute Differenc\"]\n",
    "y.add_row([1, b, lm.intercept_, abs(b-lm.intercept_)])\n",
    "\n",
    "z.field_names = [\"Train/Test\", \"MSE - Implemented SGD\", \"Sklearn SGD - MSE\", \"Absolute Differenc\"]\n",
    "z.add_row([\"Train\", error_MSE_train, error_MSE_train_sk, abs(error_MSE_train - error_MSE_train_sk)])\n",
    "z.add_row([\"Test\", error_MSE_test, error_MSE_test_sk, abs(error_MSE_test - error_MSE_test_sk)])\n",
    "\n",
    "print(x)\n",
    "print(y)\n",
    "print(z)"
   ]
  },
  {
   "cell_type": "code",
   "execution_count": null,
   "metadata": {},
   "outputs": [],
   "source": []
  }
 ],
 "metadata": {
  "colab": {
   "collapsed_sections": [
    "OH6wZmzShEsC"
   ],
   "name": "06 Implement SGD.ipynb",
   "provenance": [],
   "version": "0.3.2"
  },
  "kernelspec": {
   "display_name": "Python 3",
   "language": "python",
   "name": "python3"
  },
  "language_info": {
   "codemirror_mode": {
    "name": "ipython",
    "version": 3
   },
   "file_extension": ".py",
   "mimetype": "text/x-python",
   "name": "python",
   "nbconvert_exporter": "python",
   "pygments_lexer": "ipython3",
   "version": "3.7.3"
  }
 },
 "nbformat": 4,
 "nbformat_minor": 1
}
